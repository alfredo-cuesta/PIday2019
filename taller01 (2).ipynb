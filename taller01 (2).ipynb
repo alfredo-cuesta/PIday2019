{
  "nbformat": 4,
  "nbformat_minor": 0,
  "metadata": {
    "colab": {
      "name": "taller01.ipynb",
      "version": "0.3.2",
      "provenance": [],
      "collapsed_sections": []
    },
    "kernelspec": {
      "name": "python3",
      "display_name": "Python 3"
    },
    "accelerator": "GPU"
  },
  "cells": [
    {
      "metadata": {
        "id": "y0V5tYC9o4RP",
        "colab_type": "text"
      },
      "cell_type": "markdown",
      "source": [
        "# Visión Artificial con Redes Neuronales Profundas\n",
        "\n",
        "*   Alfredo Cuesta\n",
        "*   Juan José Pantrigo"
      ]
    },
    {
      "metadata": {
        "id": "K4TQmq3hw4AO",
        "colab_type": "text"
      },
      "cell_type": "markdown",
      "source": [
        "## ¿Qué somos capaces de hacer?\n",
        "\n",
        "* Detección y segmentación:  https://www.youtube.com/watch?v=OOT3UIXZztE\n",
        "* Generación de imágenes: https://www.youtube.com/watch?v=JzgOfISLNjk\n",
        "* Estimación de pose 3D a partir de imágenes 2D\n",
        "\n",
        "\n",
        "\n"
      ]
    },
    {
      "metadata": {
        "id": "HQTjz9pomZq-",
        "colab_type": "code",
        "colab": {}
      },
      "cell_type": "code",
      "source": [
        ""
      ],
      "execution_count": 0,
      "outputs": []
    },
    {
      "metadata": {
        "id": "LNVUNHmTnZBA",
        "colab_type": "text"
      },
      "cell_type": "markdown",
      "source": [
        "## ¿Cómo se hace?\n",
        "\n",
        "*  Modelo computacional por capas\n",
        "* Cada capa procesa la salida de la capa anterior\n",
        "* El procesado consiste en:\n",
        "\n",
        ">1. Aplicar filtros de convolución para resaltar características visuales (bordes, esquinas, etc)\n",
        ">1. Agrupar los píxeles más resaltados $\\rightarrow$ reducción de tamaño\n",
        "\n",
        "* Tras varias capas, combinar los pixels resultantes para **aprender a realizar la tarea**"
      ]
    },
    {
      "metadata": {
        "id": "XzysoBE72PWN",
        "colab_type": "text"
      },
      "cell_type": "markdown",
      "source": [
        "## ¿Cómo puede aprender una máquina?\n",
        "* Depende de la tarea\n",
        "* Un caso sencillo: reconocer señales de tráfico \n",
        "\n",
        "  https://youtu.be/5ZQPbMyywvM\n",
        "  \n",
        "* Ingredientes:\n",
        "> * Conjunto con (muchas) imágenes, $X$\n",
        "> * Cada imagen debe tener asociada una etiqueta, $Y$\n",
        "* Receta:\n",
        "> * Introducir una imagen $x$ en la máquina\n",
        "> * La máquina hace una predicción sobre la etiqueta de la imagen, $\\hat{y}$\n",
        ">* Medimos el error o pérdida (loss), $L = (y-\\hat{y})^2$\n",
        ">* Ajustamos los parámetros de la máquina para reducir el error \n",
        ">* Volver a empezar con otro ejemplo"
      ]
    },
    {
      "metadata": {
        "id": "QDdx_RjinYOq",
        "colab_type": "text"
      },
      "cell_type": "markdown",
      "source": [
        "## ¿Puedo hacerlo yo también?\n",
        "* ¡¡ Software libre !!\n",
        "  * Python\n",
        "  * Keras\n",
        "  * Tensorflow\n",
        "  * GitHub\n",
        "    ...\n",
        "  \n",
        "* PERO, en general, hace falta potencia computacional (GPU NVIDIA)\n",
        "\n",
        "  $\\rightarrow$ Con Google Colab se pueden aprender muchas técnicas (empleado en el MOVA-URJC)\n"
      ]
    },
    {
      "metadata": {
        "id": "D9q8_vBv8WLq",
        "colab_type": "text"
      },
      "cell_type": "markdown",
      "source": [
        "## Manos a la obra\n",
        "\n",
        "Vamos a reconocer dígitos manuscritos utilizando el conjunto de datos MNIST \n",
        "\n",
        "https://en.wikipedia.org/wiki/MNIST_database"
      ]
    },
    {
      "metadata": {
        "id": "Jk8gq6jUXl_D",
        "colab_type": "code",
        "colab": {}
      },
      "cell_type": "code",
      "source": [
        "#*********************\n",
        "#  Importar módulos \n",
        "#*********************\n",
        "import matplotlib.pyplot as plt\n",
        "import numpy as np\n",
        "from keras.datasets import mnist\n",
        "from keras.layers import Input, Dense, Conv2D, MaxPooling2D, Flatten, Activation, Dropout\n",
        "from keras.models import Model\n",
        "from keras.utils import to_categorical\n",
        "\n",
        "#*********************\n",
        "# Variables globales \n",
        "#*********************\n",
        "num_classes = 10 # Núm. de clases o etiquetas diferentes\n",
        "N_epochs = 2     # Num. de veces que utilizamos el conjunto de datos\n",
        "batch_size = 64  # Núm. de imágenes que usamos para ajustar la red en cada paso\n",
        "\n",
        "#************************************\n",
        "# Cargar el conjunto de datos MNIST\n",
        "#************************************\n",
        "\n",
        "(x_train, y_train), (x_test, y_test) = mnist.load_data()\n",
        "#- x_train: imágenes para que la red aprenda\n",
        "#- y_train: etiqueta de cada imagen\n",
        "#- x_test:  imágenes para probar la red\n",
        "#- y_test:  etiqueta de cada imagen"
      ],
      "execution_count": 0,
      "outputs": []
    },
    {
      "metadata": {
        "id": "UjdQjpAnZIRQ",
        "colab_type": "code",
        "colab": {}
      },
      "cell_type": "code",
      "source": [
        "# ¡¡ Es importante conocer como son los datos !!\n",
        "#  por ej. ¿¿ Qué dimensiones tienen ??\n",
        "\n",
        "N_train,W,H = x_train.shape\n",
        "N_test, W,H  = x_test.shape\n",
        "\n",
        "print(\"Dims. del conjunto de entrenamiento:\",N_train, W, H)\n",
        "print(\"Dims. del conjunto de prueba (test):\",N_test,  W, H)"
      ],
      "execution_count": 0,
      "outputs": []
    },
    {
      "metadata": {
        "id": "Qm8vni7pZkJk",
        "colab_type": "code",
        "colab": {}
      },
      "cell_type": "code",
      "source": [
        "# También es importante preparar los datos para poder procesarlos:\n",
        "\n",
        "# 1) Las imágenes deben tener 4 dimensiones: \n",
        "#     Núm.imagnes, Ancho(W), Alto(H), Profundidad de color (D)\n",
        "\n",
        "D=1 #<- Las imagenes de este ejemplo son en 'escala de grises' \n",
        "x_input = x_train.reshape((N_train,W,H,D)) \n",
        "\n",
        "# 2) Las etiquetas (1,2,3....) deben tener formato 'one-hot'\n",
        "\n",
        "y_1hot = to_categorical(y_train, num_classes=num_classes)\n"
      ],
      "execution_count": 0,
      "outputs": []
    },
    {
      "metadata": {
        "id": "dLxFZm9vK9cl",
        "colab_type": "code",
        "colab": {}
      },
      "cell_type": "code",
      "source": [
        "#***********************************\n",
        "# Construcción de la red neuronal \n",
        "#***********************************\n",
        "\n",
        "#-- Tamaño de los filtros de convolucion\n",
        "N = 3\n",
        "#-- Agrupamiento\n",
        "S = 2\n",
        "#-- Neuronas lineales para estimar la etiqueta\n",
        "M = 32\n",
        "\n",
        "#== Capa de entrada ================\n",
        "x = Input(shape=(W,H,D))\n",
        "\n",
        "#== Capa Convolucional =============\n",
        "h1 = Conv2D(16, (N, N), activation='relu', padding='same')(x)\n",
        "#== Capa de agrupamiento ===========\n",
        "h2 = MaxPooling2D((S, S))(h1)\n",
        "#== Capa Convolucional =============\n",
        "h3 = Conv2D(32, (N, N), activation='relu', padding='same')(h2)\n",
        "#== Capa de agrupamiento ===========\n",
        "h4 = MaxPooling2D((S, S))(h3)\n",
        "#== Capa Convolucional =============\n",
        "h5 = Conv2D(64, (N, N), activation='relu', padding='same')(h4)\n",
        "#== Capa de agrupamiento ===========\n",
        "h6 = MaxPooling2D((S, S))(h5)\n",
        "#== Combinar los pixels resultantes\n",
        "h7 = Flatten()(h6)\n",
        "h8 = Dense(M, activation='relu')(h7)\n",
        "\n",
        "#== Producir una salida ============\n",
        "yhat = Dense(num_classes, activation='softmax')(h8)\n"
      ],
      "execution_count": 0,
      "outputs": []
    },
    {
      "metadata": {
        "id": "qHMx_h32PPhR",
        "colab_type": "code",
        "colab": {}
      },
      "cell_type": "code",
      "source": [
        "#*******************************\n",
        "# Crear el 'objeto' CNN \n",
        "#  y añadir \n",
        "#  - mecánismo para optimizar\n",
        "#  - funcion de pérdida\n",
        "#*******************************\n",
        "CNN = Model(x,yhat)\n",
        "CNN.compile(optimizer='adam', loss='categorical_crossentropy')"
      ],
      "execution_count": 0,
      "outputs": []
    },
    {
      "metadata": {
        "id": "AUi5gjCQQQj2",
        "colab_type": "code",
        "colab": {}
      },
      "cell_type": "code",
      "source": [
        "#*********************\n",
        "#  ¡¡ APRENDEMOS !!\n",
        "#*********************\n",
        "\n",
        "CNN.fit(x_input, y_1hot, epochs=N_epochs, batch_size=batch_size)"
      ],
      "execution_count": 0,
      "outputs": []
    },
    {
      "metadata": {
        "id": "TMnTymQ5bfy2",
        "colab_type": "code",
        "colab": {}
      },
      "cell_type": "code",
      "source": [
        "#************************************\n",
        "#      ¿Qué tal ha funcionado?\n",
        "#  ¿¿Qué hará con ejemplos nuevos??\n",
        "#************************************\n",
        "\n",
        "# Recordad que los datos deben tener 4 dims.\n",
        "x_nuevos = x_test.reshape((N_test,W,H,D)) \n",
        "\n",
        "# Vamos a ver que dice la CNN sobre estos ejemplos:\n",
        "prediccion_etiqueta = CNN.predict(x_nuevos)\n",
        "\n",
        "# Pero...¿Qué tal funciona con la K-ésima imagen de prueba (test)?\n",
        "k = 9999 #<-- elegir un número entre 0 y 9999\n",
        "print(y_test[k] ,'<-- etiqueta real')\n",
        "print(np.argmax(prediccion_etiqueta[k,:]) ,'<-- etiqueta predicha')\n",
        "plt.imshow(x_test[k,:,:])"
      ],
      "execution_count": 0,
      "outputs": []
    },
    {
      "metadata": {
        "id": "1lVFqGScpBFh",
        "colab_type": "text"
      },
      "cell_type": "markdown",
      "source": [
        "## Esperamos que os haya gustado :)\n",
        "\n",
        "### Enlaces interesantes\n",
        "* Tensorflow Playground: https://playground.tensorflow.org\n",
        "* Para dibujar redes neuronales: http://alexlenail.me/NN-SVG/AlexNet.html \n",
        "* DeepLearning.ai: https://www.youtube.com/channel/UCcIXc5mJsHVYTZR1maL5l9w\n",
        "\n",
        "Si quieres continuar tu formación en la URJC.\n",
        "* Master Oficial en Visión Artificial URJC: https://mastervisionartificial.es/\n",
        "\n",
        "Más sobre nosotros:\n",
        "* Grupo de Computación de Altas Prestaciones y Optimización (CAPO): http://www.caporesearch.es\n",
        "* Prof. Juan José Pantrigo: http://www.caporesearch.es/jjpantrigo\n",
        "* Prof. Alfredo Cuesta: http://www.caporesearch.es/acuesta\n",
        "\n",
        "# GRACIAS POR VENIR"
      ]
    }
  ]
}